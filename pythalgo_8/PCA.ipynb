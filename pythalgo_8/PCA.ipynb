{
 "cells": [
  {
   "cell_type": "markdown",
   "id": "9a7b1c25",
   "metadata": {},
   "source": [
    "## 1"
   ]
  },
  {
   "cell_type": "code",
   "execution_count": 1,
   "id": "000a6058",
   "metadata": {},
   "outputs": [],
   "source": [
    "import numpy as np\n",
    "from sklearn import datasets\n",
    "\n",
    "import matplotlib.pyplot as plt"
   ]
  },
  {
   "cell_type": "code",
   "execution_count": 2,
   "id": "85839def",
   "metadata": {},
   "outputs": [
    {
     "name": "stdout",
     "output_type": "stream",
     "text": [
      "(150, 4)\n"
     ]
    }
   ],
   "source": [
    "iris = datasets.load_iris()\n",
    "X = iris.data\n",
    "y = iris.target\n",
    "\n",
    "print(X.shape)"
   ]
  },
  {
   "cell_type": "code",
   "execution_count": 3,
   "id": "760964f2",
   "metadata": {},
   "outputs": [],
   "source": [
    "U, s, W = np.linalg.svd(X)\n",
    "V = W.T\n",
    "\n",
    "D = np.zeros_like(X, dtype=float)\n",
    "D[np.diag_indices(min(X.shape))] = s"
   ]
  },
  {
   "cell_type": "code",
   "execution_count": 4,
   "id": "d0dc13f5",
   "metadata": {},
   "outputs": [
    {
     "data": {
      "image/png": "[encoded data removed]",
      "text/plain": [
       "<Figure size 432x288 with 1 Axes>"
      ]
     },
     "metadata": {
      "needs_background": "light"
     },
     "output_type": "display_data"
    }
   ],
   "source": [
    "plt.figure()\n",
    "\n",
    "for c, i in zip(['tomato', 'seagreen', 'darkblue'], [0, 1, 2]):\n",
    "    plt.scatter(U[y==i, 0], U[y==i, 1], c=c)\n",
    "    \n",
    "    \n",
    "plt.xlabel('Главная компонента 1')\n",
    "plt.ylabel('Главная компонента 2')\n",
    "plt.title('PCA датасета IRIS')\n",
    "\n",
    "plt.show()"
   ]
  },
  {
   "cell_type": "markdown",
   "id": "d3f62436",
   "metadata": {},
   "source": [
    "## 2"
   ]
  },
  {
   "cell_type": "code",
   "execution_count": 5,
   "id": "e55edfd1",
   "metadata": {},
   "outputs": [],
   "source": [
    "from sklearn.tree import DecisionTreeClassifier\n",
    "from sklearn import model_selection\n",
    "from sklearn.metrics import confusion_matrix as cm"
   ]
  },
  {
   "cell_type": "code",
   "execution_count": 6,
   "id": "8a93b9c7",
   "metadata": {},
   "outputs": [],
   "source": [
    "def accuracy_metric(actual, predicted):\n",
    "    correct = 0\n",
    "    for i in range(len(actual)):\n",
    "        if actual[i] == predicted[i]:\n",
    "            correct += 1\n",
    "    return correct / float(len(actual)) * 100.0"
   ]
  },
  {
   "cell_type": "code",
   "execution_count": 7,
   "id": "9c8df30d",
   "metadata": {},
   "outputs": [],
   "source": [
    "train_data, test_data, train_labels, test_labels = model_selection.train_test_split(X, \n",
    "                                                                        y, \n",
    "                                                                        test_size = 0.2,\n",
    "                                                                        random_state = 1)"
   ]
  },
  {
   "cell_type": "code",
   "execution_count": 8,
   "id": "9bc39996",
   "metadata": {
    "scrolled": false
   },
   "outputs": [
    {
     "name": "stdout",
     "output_type": "stream",
     "text": [
      "Доля правильных ответов = 96.67\n"
     ]
    }
   ],
   "source": [
    "clf = DecisionTreeClassifier()\n",
    "clf.fit(train_data, train_labels)\n",
    "\n",
    "y_pred = clf.predict(test_data)\n",
    "\n",
    "print(f'Доля правильных ответов = {accuracy_metric(test_labels, y_pred):.2f}')"
   ]
  },
  {
   "cell_type": "code",
   "execution_count": 9,
   "id": "64a7386e",
   "metadata": {},
   "outputs": [],
   "source": [
    "train_data, test_data, train_labels, test_labels = model_selection.train_test_split(U, \n",
    "                                                                        y, \n",
    "                                                                        test_size = 0.2,\n",
    "                                                                        random_state = 1)"
   ]
  },
  {
   "cell_type": "code",
   "execution_count": 10,
   "id": "aaba40ef",
   "metadata": {},
   "outputs": [
    {
     "name": "stdout",
     "output_type": "stream",
     "text": [
      "Доля правильных ответов = 100.00\n"
     ]
    }
   ],
   "source": [
    "clf = DecisionTreeClassifier()\n",
    "clf.fit(train_data, train_labels)\n",
    "\n",
    "y_pred = clf.predict(test_data)\n",
    "\n",
    "print(f'Доля правильных ответов = {accuracy_metric(test_labels, y_pred):.2f}')"
   ]
  },
  {
   "cell_type": "markdown",
   "id": "94cd5f6f",
   "metadata": {},
   "source": [
    "Вывод: PCA повышает точность классификации"
   ]
  }
 ],
 "metadata": {
  "kernelspec": {
   "display_name": "Python 3",
   "language": "python",
   "name": "python3"
  },
  "language_info": {
   "codemirror_mode": {
    "name": "ipython",
    "version": 3
   },
   "file_extension": ".py",
   "mimetype": "text/x-python",
   "name": "python",
   "nbconvert_exporter": "python",
   "pygments_lexer": "ipython3",
   "version": "3.8.8"
  }
 },
 "nbformat": 4,
 "nbformat_minor": 5
}
